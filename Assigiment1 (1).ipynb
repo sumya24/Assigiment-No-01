{
 "cells": [
  {
   "cell_type": "code",
   "execution_count": null,
   "id": "9b41b1ff-aef2-4c8f-ac94-708018be011b",
   "metadata": {},
   "outputs": [],
   "source": [
    "s=\"my name is sumit\"\n",
    "print(s)\n",
    "s=[2,4,5,6,6+5j,True,\"pwskills\"]\n",
    "print(s)\n",
    "s=70.20\n",
    "print(s)\n",
    "s=(\"sumit\",\"sunil\",\"rukadikar\")\n",
    "print(s)"
   ]
  },
  {
   "cell_type": "code",
   "execution_count": null,
   "id": "0e7d1c71-dfb5-4324-b1bf-84fe929a3530",
   "metadata": {},
   "outputs": [],
   "source": [
    "var1 = ''\n",
    "type(var1)\n",
    "var2 = '[ DS , ML , Python]'\n",
    "type(var2)\n",
    "var3 = ['DS','ML','Python']\n",
    "type(var3)\n",
    "var4 = 1.\n",
    "type(var4)\n"
   ]
  },
  {
   "cell_type": "code",
   "execution_count": null,
   "id": "7dba163a-a087-486b-a8cd-2e9b27a2f0bc",
   "metadata": {},
   "outputs": [],
   "source": [
    "a=4/2\n",
    "print(a)\n",
    "b=4%4\n",
    "print(b)\n",
    "c=4//2\n",
    "print(c)\n",
    "d=2**2\n",
    "print(d)"
   ]
  },
  {
   "cell_type": "code",
   "execution_count": null,
   "id": "4062614b-18b3-403f-a8b8-78b02f6b4a14",
   "metadata": {},
   "outputs": [],
   "source": [
    "l=[1,2,3,4,5,\"sumit\",1.5,True,4+5j,10]\n",
    "for i in l:\n",
    "    print(i)\n",
    "    print(type(i))"
   ]
  },
  {
   "cell_type": "code",
   "execution_count": 2,
   "id": "ee9b9574-1f88-4585-a461-6200eab3558c",
   "metadata": {},
   "outputs": [
    {
     "name": "stdin",
     "output_type": "stream",
     "text": [
      "enter the value of A 4\n",
      "enter the value of B 2\n"
     ]
    },
    {
     "name": "stdout",
     "output_type": "stream",
     "text": [
      "A is divisible by B\n",
      "it can be 2 time divisible\n"
     ]
    }
   ],
   "source": [
    "A=int(input(\"enter the value of A\"))\n",
    "B=int(input(\"enter the value of B\"))\n",
    "count=0\n",
    "while A%B==0:\n",
    "    A=A/B\n",
    "    count = count+1\n",
    "print(\"A is divisible by B\")\n",
    "print(\"it can be\",count,\"time divisible\")\n",
    "    "
   ]
  },
  {
   "cell_type": "code",
   "execution_count": 18,
   "id": "1807bda1-4cd5-47da-aab9-c76d5a5fc85c",
   "metadata": {},
   "outputs": [
    {
     "name": "stdout",
     "output_type": "stream",
     "text": [
      "1 is not divisible\n",
      "2 is not divisible\n",
      "3 is divisible\n",
      "4 is not divisible\n",
      "5 is not divisible\n",
      "6 is divisible\n",
      "7 is not divisible\n",
      "8 is not divisible\n",
      "9 is divisible\n",
      "10 is not divisible\n",
      "11 is not divisible\n",
      "12 is divisible\n",
      "13 is not divisible\n",
      "14 is not divisible\n",
      "15 is divisible\n",
      "16 is not divisible\n",
      "17 is not divisible\n",
      "18 is divisible\n",
      "19 is not divisible\n",
      "20 is not divisible\n",
      "21 is divisible\n",
      "22 is not divisible\n",
      "23 is not divisible\n",
      "24 is divisible\n",
      "25 is not divisible\n"
     ]
    }
   ],
   "source": [
    "l=[1,2,3,4,5,6,7,8,9,10,11,12,13,14,15,16,17,18,19,20,21,22,23,24,25]\n",
    "for i in l:\n",
    "    if i%3==0:\n",
    "        print(i,\"is divisible\")\n",
    "    elif i%3!=0:\n",
    "        print(i,\"is not divisible\")\n",
    "    else:\n",
    "        print(\"this is defalult\")"
   ]
  },
  {
   "cell_type": "code",
   "execution_count": 19,
   "id": "d54a5fd3-5360-439b-afef-307198951824",
   "metadata": {},
   "outputs": [
    {
     "ename": "NameError",
     "evalue": "name 'r' is not defined",
     "output_type": "error",
     "traceback": [
      "\u001b[0;31m---------------------------------------------------------------------------\u001b[0m",
      "\u001b[0;31mNameError\u001b[0m                                 Traceback (most recent call last)",
      "Cell \u001b[0;32mIn[19], line 9\u001b[0m\n\u001b[1;32m      7\u001b[0m s\u001b[38;5;241m=\u001b[39m\u001b[38;5;124m\"\u001b[39m\u001b[38;5;124msumit\u001b[39m\u001b[38;5;124m\"\u001b[39m\n\u001b[1;32m      8\u001b[0m s[\u001b[38;5;241m0\u001b[39m]\n\u001b[0;32m----> 9\u001b[0m s[\u001b[38;5;241m0\u001b[39m]\u001b[38;5;241m=\u001b[39m\u001b[43mr\u001b[49m\n\u001b[1;32m     10\u001b[0m s\n",
      "\u001b[0;31mNameError\u001b[0m: name 'r' is not defined"
     ]
    }
   ],
   "source": [
    "#mutale example \n",
    "s=[1,52,\"sumit\"]\n",
    "s[1]\n",
    "s[1]=100\n",
    "s\n",
    "#immutable example\n",
    "s=\"sumit\"\n",
    "s[0]\n",
    "s[0]=r\n",
    "s"
   ]
  },
  {
   "cell_type": "code",
   "execution_count": null,
   "id": "a70d91a3-23db-48d5-948a-557449fba920",
   "metadata": {},
   "outputs": [],
   "source": []
  }
 ],
 "metadata": {
  "kernelspec": {
   "display_name": "Python 3 (ipykernel)",
   "language": "python",
   "name": "python3"
  },
  "language_info": {
   "codemirror_mode": {
    "name": "ipython",
    "version": 3
   },
   "file_extension": ".py",
   "mimetype": "text/x-python",
   "name": "python",
   "nbconvert_exporter": "python",
   "pygments_lexer": "ipython3",
   "version": "3.10.8"
  }
 },
 "nbformat": 4,
 "nbformat_minor": 5
}
